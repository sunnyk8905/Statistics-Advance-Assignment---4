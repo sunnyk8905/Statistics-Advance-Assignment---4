{
 "cells": [
  {
   "cell_type": "code",
   "execution_count": null,
   "id": "7b6d0fcd-5a63-4081-8199-764af0de5eac",
   "metadata": {},
   "outputs": [],
   "source": [
    "Q1: What is the difference between a t-test and a z-test? Provide an example scenario where you would\n",
    "use each type of test."
   ]
  },
  {
   "cell_type": "code",
   "execution_count": null,
   "id": "fbe8f2a0-626a-45be-b29d-e6713c4d2219",
   "metadata": {},
   "outputs": [],
   "source": [
    "A t-test is used when the sample size is relatively small (typically less than 30) and the population standard deviation is\n",
    "unkonown.\n",
    "example:-\n",
    "Let's say a researcher wants to assess whether a new teaching method has a significant impact on students' test scores. \n",
    "They can randomly select two groups of students: one group taught using the traditional method (Group A) and the other\n",
    "group taught using the new method (Group B). After conducting the experiment and collecting test scores from both groups,\n",
    "a two-sample t-test can be used to determine if there is a significant difference in the mean test scores between the two group\n",
    "\n",
    "A z-test is used when the sample size is large (typically greater than 30) or when the population standard deviation is known.\n",
    "exampel:-\n",
    "Let's say a manufacturer produces light bulbs and claims that the average lifespan of their bulbs is 1000 hours. \n",
    "A quality control manager decides to test this claim by collecting a large random sample of bulbs and measuring their\n",
    "lifespans. If the population standard deviation of lifespans is known (perhaps from previous data or historical records), \n",
    "a z-test can be used to determine if the average lifespan of the light bulbs in the sample significantly differs from the \n",
    "claimed average of 1000 hours.  "
   ]
  },
  {
   "cell_type": "code",
   "execution_count": null,
   "id": "94667856-ef1c-42be-a222-16ba977f0740",
   "metadata": {},
   "outputs": [],
   "source": [
    "Q2: Differentiate between one-tailed and two-tailed tests."
   ]
  },
  {
   "cell_type": "code",
   "execution_count": null,
   "id": "63710729-c5ef-43a6-84c3-5ef234c39507",
   "metadata": {},
   "outputs": [],
   "source": [
    "One-tailed test:\n",
    "In a one-tailed test (also known as a directional test or a one-sided test), the hypothesis specifies a specific direction \n",
    "for the relationship between the variables being tested.\n",
    "\n",
    "Two-tailed test:\n",
    "In a two-tailed test (also known as a non-directional test or a two-sided test), the hypothesis does not specify a particular\n",
    " direction for the effect. "
   ]
  },
  {
   "cell_type": "code",
   "execution_count": null,
   "id": "5a70a7af-f89c-4d90-a612-01806c6d42bc",
   "metadata": {},
   "outputs": [],
   "source": [
    "Q3: Explain the concept of Type 1 and Type 2 errors in hypothesis testing. Provide an example scenario for\n",
    "each type of error."
   ]
  },
  {
   "cell_type": "code",
   "execution_count": null,
   "id": "9dd92b5f-2526-499a-aa7f-9eb7fbae3a2d",
   "metadata": {},
   "outputs": [],
   "source": [
    "A Type 1 error occurs when we mistakenly reject a null hypothesis when it is actually true.\n",
    "exampel:-\n",
    "A pharmaceutical company is testing a new drug and wants to determine if it is more effective than the current standard \n",
    "treatment for a particular condition. The null hypothesis (H0) states that the new drug is not more \n",
    "effective than the standard treatment. The alternative hypothesis (Ha) suggests that the new drug is indeed more effective. \n",
    "After conducting the study and analyzing the data, the statistical test leads to the rejection of the null hypothesis in favor\n",
    " of the alternative hypothesis, indicating that the new drug is more effective. However, in reality, the new drug has no \n",
    "additional benefit over the standard treatment, and the observed difference in the study was due to random variation. \n",
    "\n",
    "\n",
    "A Type 2 error occurs when we mistakenly fail to reject a null hypothesis when it is actually false.\n",
    "exampel:-\n",
    "Continuing from the previous example, suppose the new drug is genuinely more effective than the standard treatment, and the \n",
    "null hypothesis (H0) is false. However, the study fails to detect this true effect, and the statistical test does\n",
    "not lead to the rejection of the null hypothesis. The conclusion from the study is that there is no significant difference \n",
    "between the new drug and the standard treatment. "
   ]
  },
  {
   "cell_type": "code",
   "execution_count": null,
   "id": "33caa189-b23c-4f09-a8a0-4335faaf620b",
   "metadata": {},
   "outputs": [],
   "source": [
    "Q4: Explain Bayes's theorem with an example."
   ]
  },
  {
   "cell_type": "code",
   "execution_count": null,
   "id": "1e5883cc-4d17-4fd4-a953-206250243b67",
   "metadata": {},
   "outputs": [],
   "source": [
    "In simple terms, Bayes's theorem enables us to update our beliefs about the likelihood of an event occurring based on new \n",
    "information.\n",
    "exampel:-\n",
    "Suppose there is a rare disease that affects 1 in 1000 people in a population. You visit a doctor because you suspect you \n",
    "might have the disease. The doctor performs a medical test to determine if you have the disease or not. \n",
    "The test is not perfect; it has an 98% accuracy rate for true positives (correctly identifying a person with the disease) and\n",
    " a 95% accuracy rate for true negatives (correctly identifying a person without the disease)."
   ]
  },
  {
   "cell_type": "code",
   "execution_count": null,
   "id": "ddcf8db5-37b2-4cd4-a6d2-cb33b1f6cccf",
   "metadata": {},
   "outputs": [],
   "source": [
    "Q5: What is a confidence interval? How to calculate the confidence interval, explain with an example."
   ]
  },
  {
   "cell_type": "code",
   "execution_count": null,
   "id": "00f57bdd-b6b0-4592-9cd2-28525f963e4b",
   "metadata": {},
   "outputs": [],
   "source": [
    "A confidence interval is a range of values that is used to estimate the true value of a population parameter with a certain \n",
    "level of confidence.\n",
    "Confidence Interval=Sample Mean ± Margin of Error\n",
    "Suppose we want to estimate the average height of adult males in a city. We take a random sample of 50 adult males and \n",
    " measure their heights. The sample mean height is 175 cm, and the sample standard deviation is 8 cm.\n",
    "\n",
    "Let's calculate a 95% confidence interval for the population mean height:\n",
    "standard error=1.131\n",
    " Margin of Error=2.009×1.131≈2.275 \n",
    "    Confidence Interval=175±2.275\n",
    "    The 95% confidence interval for the population mean height is approximately (172.725, 177.275) cm."
   ]
  },
  {
   "cell_type": "code",
   "execution_count": null,
   "id": "dc06ed4b-c12c-40c3-adaa-d5a66b3b687c",
   "metadata": {},
   "outputs": [],
   "source": [
    "Q6. Use Bayes' Theorem to calculate the probability of an event occurring given prior knowledge of the\n",
    "event's probability and new evidence. Provide a sample problem and solution."
   ]
  },
  {
   "cell_type": "code",
   "execution_count": null,
   "id": "36bc9da2-3988-4829-9cbc-9c5f2fd789d0",
   "metadata": {},
   "outputs": [],
   "source": [
    "Suppose we have a bag of colored balls. The bag contains 60% red balls and 40% blue balls. You randomly draw a ball from the\n",
    "bag, and before looking at its color, you have a friend tell you whether it's a rubber ball (event B). Your friend knows that\n",
    "rubber balls have a 30% chance of being red (event A). Based on your friend's information, what is the probability \n",
    "that the ball you drew is red?\n",
    "Solution:\n",
    "Let's define the events:\n",
    "\n",
    "A: The ball is red.\n",
    "B: The ball is a rubber ball.\n",
    "Given information:\n",
    "P(A) = 0.60 (60%)\n",
    "P(B∣A)= 0.30 (30%)\n",
    "P(¬B∣A)=1 - 0.30 = 0.70 (70%)\n",
    "We need to calculate \n",
    "P(A∣B), the probability of the ball being red given that it is a rubber ball.\n",
    "\n",
    "P(B)=P(B∣A)⋅P(A)+P(B∣¬A)⋅P(¬A)=0.30⋅0.60+0⋅(1−0.60)\n",
    "P(B)=0.30⋅0.60+0⋅(1−0.60)=0.18+0\n",
    "P(B)=0.18+0=0.18\n",
    "P(B)=0.18\n",
    "\n",
    "P(A∣B)= P(B∣A)⋅P(A)/p(B)\n",
    "P(A∣B)=0.3*0.6/0.18\n",
    "P(A∣B)=1\n",
    " "
   ]
  },
  {
   "cell_type": "code",
   "execution_count": null,
   "id": "52d9a875-8f71-4f40-a620-bb8a31ccd7c8",
   "metadata": {},
   "outputs": [],
   "source": [
    "Q7. Calculate the 95% confidence interval for a sample of data with a mean of 50 and a standard deviation\n",
    "of 5. Interpret the results."
   ]
  },
  {
   "cell_type": "code",
   "execution_count": null,
   "id": "bc7a2a4c-ebe6-42e1-9548-8c8f53c2d857",
   "metadata": {},
   "outputs": [],
   "source": [
    "Sample Mean  (ˉxˉ ) = 50\n",
    "Standard Deviation (σ) = 5\n",
    "Confidence Level = 95%\n",
    "\n",
    "the critical value is approximately 1.96.\n",
    "\n",
    "Confidence Interval=50±(1.96×5/n^1/2)\n",
    "Confidence Interval=50±0.98\n",
    "\n",
    "So, the 95% confidence interval for this sample is (49.02, 50.98).\n",
    "\n",
    "Interpretation of the confidence interval: We are 95% confident that the true population mean lies within the range of 49.02 \n",
    "to 50.98. This means that if we were to take multiple samples and calculate their confidence intervals, we would expect\n",
    "95% of those intervals to contain the true population mean, and 5% of them to not include it."
   ]
  },
  {
   "cell_type": "code",
   "execution_count": null,
   "id": "351ba071-3824-4839-9804-44ce63545139",
   "metadata": {},
   "outputs": [],
   "source": [
    "Q8. What is the margin of error in a confidence interval? How does sample size affect the margin of error?\n",
    "Provide an example of a scenario where a larger sample size would result in a smaller margin of error."
   ]
  },
  {
   "cell_type": "code",
   "execution_count": null,
   "id": "eb6c3966-8516-4efe-b366-4062557620b8",
   "metadata": {},
   "outputs": [],
   "source": [
    "The margin of error (MOE) is a measure of the uncertainty associated with estimating a population parameter  from a sample.\n",
    "The margin of error is typically expressed as a plus-minus value around the sample estimate.  It is an interval around the \n",
    "sample estimate that provides a range within which the true population parameter is likely to fall with a certain level of \n",
    "confidence.\n",
    "exampel:-\n",
    "Let's consider a scenario where we want to estimate the average height of students in a school. We take two samples: Sample\n",
    "A with 50 students and Sample B with 200 students.\n",
    "\n",
    "Sample A:\n",
    "Sample Mean (X̄) = 160 cm\n",
    "Sample Standard Deviation (σ) = 5 cm\n",
    "Sample Size (n) = 50\n",
    "Confidence Level = 95% (Critical Value ≈ 1.96)\n",
    "Margin of Error for Sample A=1.39\n",
    "So, the 95% confidence interval for Sample A is approximately 160 ± 1.39 cm, which means we are 95% confident that the true\n",
    "population mean height lies within the range of 158.61 to 161.39 cm.\n",
    "\n",
    "Sample B:\n",
    "Sample Mean (X̄) = 160 cm\n",
    "Sample Standard Deviation (σ) = 5 cm\n",
    "Sample Size (n) = 200\n",
    "Confidence Level = 95% (Critical Value ≈ 1.96)\n",
    "Margin of Error for Sample B=0.99\n",
    "So, the 95% confidence interval for Sample B is approximately 160 ± 0.99 cm, which means we are 95% confident that the true\n",
    "population mean height lies within the range of 159.01 to 160.99 cm."
   ]
  },
  {
   "cell_type": "code",
   "execution_count": null,
   "id": "21a3c663-a456-4b25-a408-a6682629e0c2",
   "metadata": {},
   "outputs": [],
   "source": [
    "Q9. Calculate the z-score for a data point with a value of 75, a population mean of 70, and a population\n",
    "standard deviation of 5. Interpret the results."
   ]
  },
  {
   "cell_type": "code",
   "execution_count": null,
   "id": "fe549551-0a2f-43d8-aeb9-4bbfa1217b63",
   "metadata": {},
   "outputs": [],
   "source": [
    "Data Point = 75\n",
    "Population Mean = 70\n",
    "Population Standard Deviation = 5\n",
    "\n",
    "Z-score= 75-70/5\n",
    "Z-score=1\n",
    "\n",
    "Interpretation of the results:\n",
    "A z-score of 1 means that the data point (75 in this case) is one standard deviation above the population mean (70).\n",
    "Since the z-score is positive, it tells us that the data point is above the mean."
   ]
  },
  {
   "cell_type": "code",
   "execution_count": null,
   "id": "2292c041-d0af-40c7-9873-cdffb9f7029f",
   "metadata": {},
   "outputs": [],
   "source": [
    "Q10. In a study of the effectiveness of a new weight loss drug, a sample of 50 participants lost an average\n",
    "of 6 pounds with a standard deviation of 2.5 pounds. Conduct a hypothesis test to determine if the drug is\n",
    "significantly effective at a 95% confidence level using a t-test."
   ]
  },
  {
   "cell_type": "code",
   "execution_count": null,
   "id": "d0b634b1-692a-4642-9af1-45d17768cd61",
   "metadata": {},
   "outputs": [],
   "source": [
    "Sample Mean (ˉxˉ ) = 6 pounds\n",
    "Sample Standard Deviation (s) = 2.5 pounds\n",
    "Sample Size (n) = 50\n",
    "Confidence Level = 95%\n",
    "\n",
    "t=((6-0)*50^1/2)/2.5\n",
    "t=9.55\n",
    "\n",
    "significance level,α, is 0.05 for a one-tailed test\n",
    "the critical t-value is approximately 1.676 \n",
    "Since the calculated t-value (9.55) is greater than the critical t-value (1.676), we reject the null hypothesis.\n",
    "\n",
    "Based on the results of the t-test, we have enough evidence to reject the null hypothesis, suggesting that the weight \n",
    "loss drug is significantly effective.  the drug is effective in helping participants lose weight."
   ]
  },
  {
   "cell_type": "code",
   "execution_count": null,
   "id": "b275928d-1463-4c24-af08-c02407d8ddfb",
   "metadata": {},
   "outputs": [],
   "source": [
    "Q11. In a survey of 500 people, 65% reported being satisfied with their current job. Calculate the 95%\n",
    "confidence interval for the true proportion of people who are satisfied with their job."
   ]
  },
  {
   "cell_type": "code",
   "execution_count": null,
   "id": "282f84af-4419-4e44-a38d-ec3bd6c022a0",
   "metadata": {},
   "outputs": [],
   "source": [
    "Confidence Interval=0.65±1.96 × ((0.65*(1-0.65))/500)^1/2\n",
    "Confidence Interval=0.65±0.0187\n",
    "Confidence Interval=(0.6313,0.6687)\n",
    "\n",
    "We are 95% confident that the true proportion of people who are satisfied with their job lies within the range of 63.13% to \n",
    " 66.87%. This means that if we were to take multiple random samples of 500 people and calculate the confidence interval\n",
    " for each sample, we would expect 95% of those intervals to contain the true population proportion of people satisfied with\n",
    "job, and 5% of them to not include it."
   ]
  },
  {
   "cell_type": "code",
   "execution_count": null,
   "id": "e102eeac-fe90-4e51-b470-90dcb815455c",
   "metadata": {},
   "outputs": [],
   "source": [
    "Q12. A researcher is testing the effectiveness of two different teaching methods on student performance.\n",
    "Sample A has a mean score of 85 with a standard deviation of 6, while sample B has a mean score of 82\n",
    "with a standard deviation of 5. Conduct a hypothesis test to determine if the two teaching methods have a\n",
    "significant difference in student performance using a t-test with a significance level of 0.01."
   ]
  },
  {
   "cell_type": "code",
   "execution_count": null,
   "id": "251bdd58-96f0-4410-a225-dc1d22c91114",
   "metadata": {},
   "outputs": [],
   "source": [
    "Null Hypothesis (H0): There is no significant difference in student performance between the two teaching methods.\n",
    "Alternative Hypothesis (Ha): There is a significant difference in student performance between the two teaching methods.\n",
    "XA=85\n",
    "sA=6,\n",
    "XB=82\n",
    "sB=5,\n",
    "The significance level (α) is 0.01.\n",
    "Since the sample sizes are not provided, we cannot proceed with the t-test. The t-test requires knowing the sample sizes\n",
    "of both groups to calculate the degrees of freedom and determine the critical t-value."
   ]
  },
  {
   "cell_type": "code",
   "execution_count": null,
   "id": "c343f914-d592-44c3-8b60-8619d11ca318",
   "metadata": {},
   "outputs": [],
   "source": [
    "Q13. A population has a mean of 60 and a standard deviation of 8. A sample of 50 observations has a mean\n",
    "of 65. Calculate the 90% confidence interval for the true population mean."
   ]
  },
  {
   "cell_type": "code",
   "execution_count": null,
   "id": "557c4214-38df-4f96-a572-f1483a6c7985",
   "metadata": {},
   "outputs": [],
   "source": [
    "X=65\n",
    "the critical value is approximately 1.645.\n",
    "σ is the population standard deviation (8 in this case).\n",
    "n is the sample size (50 in this case).\n",
    "\n",
    "Confidence Interval=65±1.645 X (8/50^1/2)\n",
    "Confidence Interval=65±1.86054\n",
    "Confidence Interval=(63.13946,66.86054)\n",
    "\n",
    "We are 90% confident that the true population mean lies within the range of 63.13946 to 66.86054."
   ]
  },
  {
   "cell_type": "code",
   "execution_count": null,
   "id": "69083a7a-1817-469b-bdd0-f3add1ce78d7",
   "metadata": {},
   "outputs": [],
   "source": [
    "Q14. In a study of the effects of caffeine on reaction time, a sample of 30 participants had an average\n",
    "reaction time of 0.25 seconds with a standard deviation of 0.05 seconds. Conduct a hypothesis test to\n",
    "determine if the caffeine has a significant effect on reaction time at a 90% confidence level using a t-test."
   ]
  },
  {
   "cell_type": "code",
   "execution_count": null,
   "id": "4d8873c6-89a3-40fb-873f-2d3632e252c8",
   "metadata": {},
   "outputs": [],
   "source": [
    "Null Hypothesis (H0): Caffeine does not have a significant effect on reaction time. \n",
    "Alternative Hypothesis (Ha): Caffeine has a significant effect on reaction time. \n",
    "xˉ=is the sample mean reaction time (0.25 seconds in this case).\n",
    "μ =0.25second\n",
    "s is the sample standard deviation of reaction time (0.05 seconds in this case).\n",
    "n is the sample size (30 in this case).\n",
    "\n",
    "t=((0.25-0.25)*50^1/2)/0.05\n",
    "t=0\n",
    "\n",
    "degrees of freedom =n−1=30−1=29\n",
    "df=n−1=30−1=29.\n",
    "the critical t-value is approximately -1.311 \n",
    "Since the calculated t-statistic (approximately 0) falls within the non-rejection region (t > -1.311), we fail to reject the\n",
    "null hypothesis."
   ]
  }
 ],
 "metadata": {
  "kernelspec": {
   "display_name": "Python 3 (ipykernel)",
   "language": "python",
   "name": "python3"
  },
  "language_info": {
   "codemirror_mode": {
    "name": "ipython",
    "version": 3
   },
   "file_extension": ".py",
   "mimetype": "text/x-python",
   "name": "python",
   "nbconvert_exporter": "python",
   "pygments_lexer": "ipython3",
   "version": "3.10.8"
  }
 },
 "nbformat": 4,
 "nbformat_minor": 5
}
